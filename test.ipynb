from pyspark.sql import SparkSession
spark = SparkSession.builder.appName("SimpleApp").getOrCreate()
df = spark.createDataFrame([(1,2),(5,6)],["col1","col2"])
df.show()
